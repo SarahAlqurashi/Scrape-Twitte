{
  "nbformat": 4,
  "nbformat_minor": 0,
  "metadata": {
    "colab": {
      "name": "Scrape Twitter.ipynb",
      "provenance": [],
      "authorship_tag": "ABX9TyMbqk7POVG//mWesXmTtjBR",
      "include_colab_link": true
    },
    "kernelspec": {
      "name": "python3",
      "display_name": "Python 3"
    }
  },
  "cells": [
    {
      "cell_type": "markdown",
      "metadata": {
        "id": "view-in-github",
        "colab_type": "text"
      },
      "source": [
        "<a href=\"https://colab.research.google.com/github/SarahAlqurashi/Scrape-Twitte/blob/main/Scrape_Twitter.ipynb\" target=\"_parent\"><img src=\"https://colab.research.google.com/assets/colab-badge.svg\" alt=\"Open In Colab\"/></a>"
      ]
    },
    {
      "cell_type": "code",
      "metadata": {
        "id": "1rdljEhAyaDa"
      },
      "source": [
        "from google.colab import drive \n",
        "import datetime\n",
        "import tweepy\n",
        "import time\n",
        "import json "
      ],
      "execution_count": null,
      "outputs": []
    },
    {
      "cell_type": "code",
      "metadata": {
        "id": "WqQcu9Y3zFcL",
        "outputId": "33e29082-5442-46d8-ee45-8c2f02c1468e",
        "colab": {
          "base_uri": "https://localhost:8080/",
          "height": 34
        }
      },
      "source": [
        "from google.colab import drive \n",
        "drive.mount(\"/content/drive\")\n"
      ],
      "execution_count": null,
      "outputs": [
        {
          "output_type": "stream",
          "text": [
            "Drive already mounted at /content/drive; to attempt to forcibly remount, call drive.mount(\"/content/drive\", force_remount=True).\n"
          ],
          "name": "stdout"
        }
      ]
    },
    {
      "cell_type": "markdown",
      "metadata": {
        "id": "yi3DoUIT10-8"
      },
      "source": [
        "\n",
        "**Twitter API Keys**\n",
        "\n",
        "Once you've created your application, write down the consumer key, consumer secret, access token and access token secret\n",
        "\n",
        "\n"
      ]
    },
    {
      "cell_type": "code",
      "metadata": {
        "id": "e9YyH6SmxcMX"
      },
      "source": [
        "access_token = \"\"\n",
        "access_token_secret =\"\"\n",
        "consumer_key = \"\"\n",
        "consumer_secret =\"\""
      ],
      "execution_count": null,
      "outputs": []
    },
    {
      "cell_type": "code",
      "metadata": {
        "id": "Qd3xMN-exfE1"
      },
      "source": [
        "auth = tweepy.OAuthHandler(consumer_key, consumer_secret)\n",
        "auth.set_access_token(access_token, access_token_secret)\n",
        "api = tweepy.API(auth,wait_on_rate_limit=True)"
      ],
      "execution_count": null,
      "outputs": []
    },
    {
      "cell_type": "markdown",
      "metadata": {
        "id": "Ks908ShQ17S9"
      },
      "source": [
        "**Scrape Twitter** "
      ]
    },
    {
      "cell_type": "code",
      "metadata": {
        "id": "guM-JbJVxjKn"
      },
      "source": [
        "keywords = ['','']\n",
        "count = 10000\n",
        "tweets_list=[]\n",
        " #loop throughout the keyword list\n",
        "\n",
        "\n",
        "while True:\n",
        "  for i in range(len(keywords)) : \n",
        "   try:     \n",
        "       # Scrape \n",
        "      tweets = tweepy.Cursor(api.search,q=keywords[i]).items(count) \n",
        " # Pulling information from tweets iterable object\n",
        "      for tweet in tweets:\n",
        "            tweets_list.append(tweet._json)\n",
        "\n",
        "  except BaseException as e:\n",
        "      print('failed on_status,',str(e))\n",
        "      time.sleep(3)\n",
        "      "
      ],
      "execution_count": null,
      "outputs": []
    },
    {
      "cell_type": "code",
      "metadata": {
        "id": "qoIsugkEy86e"
      },
      "source": [
        "len(tweets_list)"
      ],
      "execution_count": null,
      "outputs": []
    },
    {
      "cell_type": "markdown",
      "metadata": {
        "id": "B_LgJuGg2H2R"
      },
      "source": [
        "**Save the tweets as json file**"
      ]
    },
    {
      "cell_type": "code",
      "metadata": {
        "id": "ShXEasitykoK"
      },
      "source": [
        "with open(path, 'w') as outfile: #open json file\n",
        "    json.dump(tweets_list, outfile) # write the data into json file"
      ],
      "execution_count": null,
      "outputs": []
    }
  ]
}